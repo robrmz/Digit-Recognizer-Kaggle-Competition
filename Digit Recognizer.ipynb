{
 "cells": [
  {
   "cell_type": "code",
   "execution_count": 1,
   "id": "1b652581",
   "metadata": {},
   "outputs": [],
   "source": [
    "import pandas as pd\n",
    "import numpy as np\n",
    "import tensorflow as tf\n",
    "from sklearn.model_selection import train_test_split\n",
    "\n",
    "#loading data\n",
    "train = pd.read_csv(\"train.csv\")\n",
    "test = pd.read_csv(\"test.csv\")\n",
    "\n",
    "#assign the data\n",
    "x = train.drop(['label'], axis=1)\n",
    "y = train['label']\n",
    "\n",
    "#split the data\n",
    "x_train, x_test, y_train, y_test = train_test_split(x, y, test_size=0.33, random_state=42)\n",
    "\n",
    "#normalization\n",
    "x_train = x_train/255\n",
    "x_test = x_test/255\n",
    "\n",
    "#reshaping\n",
    "x_train = x_train.values.reshape(-1,28,28,1)\n",
    "x_test = x_test.values.reshape(-1,28,28,1)\n",
    "\n",
    "\n",
    "test_final = test/255\n",
    "test_final = test_final.values.reshape(-1,28,28,1)"
   ]
  },
  {
   "cell_type": "code",
   "execution_count": 2,
   "id": "b7f20204",
   "metadata": {
    "scrolled": true
   },
   "outputs": [
    {
     "data": {
      "image/png": "[encoded data removed]",
      "text/plain": [
       "<Figure size 432x288 with 1 Axes>"
      ]
     },
     "metadata": {
      "needs_background": "light"
     },
     "output_type": "display_data"
    }
   ],
   "source": [
    "import matplotlib.pyplot as plt\n",
    "plt.imshow(x_train[9], cmap = plt.cm.binary)\n",
    "plt.show()\n"
   ]
  },
  {
   "cell_type": "code",
   "execution_count": 3,
   "id": "ad031f9d",
   "metadata": {},
   "outputs": [
    {
     "name": "stdout",
     "output_type": "stream",
     "text": [
      "Epoch 1/20\n",
      "282/282 [==============================] - 1s 990us/step - loss: 0.5042 - accuracy: 0.8652\n",
      "Epoch 2/20\n",
      "282/282 [==============================] - 0s 983us/step - loss: 0.2058 - accuracy: 0.9383\n",
      "Epoch 3/20\n",
      "282/282 [==============================] - 0s 980us/step - loss: 0.1404 - accuracy: 0.9582\n",
      "Epoch 4/20\n",
      "282/282 [==============================] - 0s 987us/step - loss: 0.1066 - accuracy: 0.9686\n",
      "Epoch 5/20\n",
      "282/282 [==============================] - 0s 983us/step - loss: 0.0828 - accuracy: 0.9759\n",
      "Epoch 6/20\n",
      "282/282 [==============================] - 0s 980us/step - loss: 0.0636 - accuracy: 0.9807\n",
      "Epoch 7/20\n",
      "282/282 [==============================] - 0s 990us/step - loss: 0.0513 - accuracy: 0.9844\n",
      "Epoch 8/20\n",
      "282/282 [==============================] - 0s 987us/step - loss: 0.0401 - accuracy: 0.9887\n",
      "Epoch 9/20\n",
      "282/282 [==============================] - 0s 980us/step - loss: 0.0331 - accuracy: 0.9904\n",
      "Epoch 10/20\n",
      "282/282 [==============================] - 0s 972us/step - loss: 0.0237 - accuracy: 0.9937\n",
      "Epoch 11/20\n",
      "282/282 [==============================] - 0s 987us/step - loss: 0.0188 - accuracy: 0.9951\n",
      "Epoch 12/20\n",
      "282/282 [==============================] - 0s 980us/step - loss: 0.0153 - accuracy: 0.9961\n",
      "Epoch 13/20\n",
      "282/282 [==============================] - 0s 976us/step - loss: 0.0106 - accuracy: 0.9982\n",
      "Epoch 14/20\n",
      "282/282 [==============================] - 0s 983us/step - loss: 0.0093 - accuracy: 0.9977\n",
      "Epoch 15/20\n",
      "282/282 [==============================] - 0s 990us/step - loss: 0.0059 - accuracy: 0.9991\n",
      "Epoch 16/20\n",
      "282/282 [==============================] - 0s 983us/step - loss: 0.0037 - accuracy: 0.9998\n",
      "Epoch 17/20\n",
      "282/282 [==============================] - 0s 980us/step - loss: 0.0029 - accuracy: 0.9998\n",
      "Epoch 18/20\n",
      "282/282 [==============================] - 0s 983us/step - loss: 0.0031 - accuracy: 0.9996\n",
      "Epoch 19/20\n",
      "282/282 [==============================] - 0s 1ms/step - loss: 0.0144 - accuracy: 0.9954\n",
      "Epoch 20/20\n",
      "282/282 [==============================] - 0s 1ms/step - loss: 0.0228 - accuracy: 0.9922\n"
     ]
    },
    {
     "data": {
      "text/plain": [
       "<keras.callbacks.History at 0x1aca17fb130>"
      ]
     },
     "execution_count": 3,
     "metadata": {},
     "output_type": "execute_result"
    }
   ],
   "source": [
    "x_train = tf.keras.utils.normalize(x_train, axis=1)\n",
    "x_test = tf.keras.utils.normalize(x_test, axis=1)\n",
    "\n",
    "model = tf.keras.models.Sequential()\n",
    "model.add(tf.keras.layers.Flatten())\n",
    "model.add(tf.keras.layers.Dense(128, activation=tf.nn.relu))\n",
    "model.add(tf.keras.layers.Dense(128, activation=tf.nn.relu))\n",
    "model.add(tf.keras.layers.Dense(10, activation=tf.nn.softmax))\n",
    "model.compile(optimizer='adam',\n",
    "                  loss='sparse_categorical_crossentropy', \n",
    "                  metrics=['accuracy'])\n",
    "model.fit(x_train, y_train, epochs=20, batch_size=100)"
   ]
  },
  {
   "cell_type": "code",
   "execution_count": 4,
   "id": "b5e0b9cb",
   "metadata": {},
   "outputs": [
    {
     "name": "stdout",
     "output_type": "stream",
     "text": [
      "434/434 [==============================] - 0s 567us/step - loss: 0.1556 - accuracy: 0.9654\n",
      "0.15561506152153015 0.9653679728507996\n"
     ]
    }
   ],
   "source": [
    "val_loss, val_acc = model.evaluate(x_test, y_test)\n",
    "print(val_loss, val_acc)"
   ]
  },
  {
   "cell_type": "code",
   "execution_count": 5,
   "id": "48913167",
   "metadata": {},
   "outputs": [
    {
     "name": "stdout",
     "output_type": "stream",
     "text": [
      "Epoch 1/20\n",
      "282/282 [==============================] - 1s 1ms/step - loss: 0.4750 - accuracy: 0.8622\n",
      "Epoch 2/20\n",
      "282/282 [==============================] - 0s 1ms/step - loss: 0.1919 - accuracy: 0.9420\n",
      "Epoch 3/20\n",
      "282/282 [==============================] - 0s 1ms/step - loss: 0.1287 - accuracy: 0.9612\n",
      "Epoch 4/20\n",
      "282/282 [==============================] - 0s 1ms/step - loss: 0.0935 - accuracy: 0.9718\n",
      "Epoch 5/20\n",
      "282/282 [==============================] - 0s 1ms/step - loss: 0.0707 - accuracy: 0.9780\n",
      "Epoch 6/20\n",
      "282/282 [==============================] - 0s 1ms/step - loss: 0.0543 - accuracy: 0.9828\n",
      "Epoch 7/20\n",
      "282/282 [==============================] - 0s 1ms/step - loss: 0.0415 - accuracy: 0.9869\n",
      "Epoch 8/20\n",
      "282/282 [==============================] - 0s 1ms/step - loss: 0.0302 - accuracy: 0.9905\n",
      "Epoch 9/20\n",
      "282/282 [==============================] - 0s 1ms/step - loss: 0.0227 - accuracy: 0.9930\n",
      "Epoch 10/20\n",
      "282/282 [==============================] - 0s 1ms/step - loss: 0.0199 - accuracy: 0.9937\n",
      "Epoch 11/20\n",
      "282/282 [==============================] - 0s 1ms/step - loss: 0.0116 - accuracy: 0.9970\n",
      "Epoch 12/20\n",
      "282/282 [==============================] - 0s 1ms/step - loss: 0.0151 - accuracy: 0.9956\n",
      "Epoch 13/20\n",
      "282/282 [==============================] - 0s 1ms/step - loss: 0.0138 - accuracy: 0.9953\n",
      "Epoch 14/20\n",
      "282/282 [==============================] - 0s 1ms/step - loss: 0.0133 - accuracy: 0.9954\n",
      "Epoch 15/20\n",
      "282/282 [==============================] - 0s 1ms/step - loss: 0.0135 - accuracy: 0.9951\n",
      "Epoch 16/20\n",
      "282/282 [==============================] - 0s 1ms/step - loss: 0.0044 - accuracy: 0.9989\n",
      "Epoch 17/20\n",
      "282/282 [==============================] - 0s 1ms/step - loss: 0.0033 - accuracy: 0.9992\n",
      "Epoch 18/20\n",
      "282/282 [==============================] - 0s 1ms/step - loss: 0.0156 - accuracy: 0.9943\n",
      "Epoch 19/20\n",
      "282/282 [==============================] - 0s 1ms/step - loss: 0.0113 - accuracy: 0.9958\n",
      "Epoch 20/20\n",
      "282/282 [==============================] - 0s 1ms/step - loss: 0.0102 - accuracy: 0.9966\n"
     ]
    }
   ],
   "source": [
    "model_final = tf.keras.models.Sequential()\n",
    "model_final.add(tf.keras.layers.Flatten())\n",
    "model_final.add(tf.keras.layers.Dense(128, activation=tf.nn.relu))\n",
    "model_final.add(tf.keras.layers.Dense(128, activation=tf.nn.relu))\n",
    "model_final.add(tf.keras.layers.Dense(128, activation=tf.nn.relu))\n",
    "model_final.add(tf.keras.layers.Dense(10, activation=tf.nn.softmax))\n",
    "model_final.compile(optimizer='adam',\n",
    "                  loss='sparse_categorical_crossentropy', \n",
    "                  metrics=['accuracy'])\n",
    "model_final.fit(x_train, y_train, epochs=20, batch_size=100)\n",
    "\n",
    "preds = model_final.predict(test_final)\n",
    "\n",
    "\n",
    "\n"
   ]
  },
  {
   "cell_type": "code",
   "execution_count": 6,
   "id": "0b592b9e",
   "metadata": {},
   "outputs": [],
   "source": [
    "preds = np.argmax(preds,axis=1)\n",
    "my_submission = pd.DataFrame({'ImageId': list(range(1, len(preds)+1)), 'Label': preds})\n",
    "my_submission.to_csv('your_sub.csv', index=False)\n",
    "\n",
    "\n"
   ]
  },
  {
   "cell_type": "code",
   "execution_count": null,
   "id": "a53c6b79",
   "metadata": {},
   "outputs": [],
   "source": []
  }
 ],
 "metadata": {
  "kernelspec": {
   "display_name": "Python 3 (ipykernel)",
   "language": "python",
   "name": "python3"
  },
  "language_info": {
   "codemirror_mode": {
    "name": "ipython",
    "version": 3
   },
   "file_extension": ".py",
   "mimetype": "text/x-python",
   "name": "python",
   "nbconvert_exporter": "python",
   "pygments_lexer": "ipython3",
   "version": "3.9.7"
  }
 },
 "nbformat": 4,
 "nbformat_minor": 5
}
